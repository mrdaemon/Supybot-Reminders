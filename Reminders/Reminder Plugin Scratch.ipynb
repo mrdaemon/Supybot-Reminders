{
 "cells": [
  {
   "cell_type": "markdown",
   "metadata": {},
   "source": [
    "# Reminder Parser Scratch Pad"
   ]
  },
  {
   "cell_type": "markdown",
   "metadata": {},
   "source": [
    "Automatically reload modules and functions before execution"
   ]
  },
  {
   "cell_type": "code",
   "execution_count": 1,
   "metadata": {
    "collapsed": false
   },
   "outputs": [],
   "source": [
    "%load_ext autoreload\n",
    "%autoreload 2"
   ]
  },
  {
   "cell_type": "code",
   "execution_count": 2,
   "metadata": {
    "collapsed": false
   },
   "outputs": [],
   "source": [
    "from local import parser"
   ]
  },
  {
   "cell_type": "code",
   "execution_count": 3,
   "metadata": {
    "collapsed": false
   },
   "outputs": [],
   "source": [
    "import re"
   ]
  },
  {
   "cell_type": "markdown",
   "metadata": {},
   "source": [
    "Test Strings, because _what is the world without fixtures?_"
   ]
  },
  {
   "cell_type": "code",
   "execution_count": 4,
   "metadata": {
    "collapsed": false
   },
   "outputs": [],
   "source": [
    "a = \"bob in 28 seconds to mow the lawn\"\n",
    "b = \"jack and jill in 3 days to go fuck themselves\"\n",
    "c = \"jack, jill and dr_seuss to eat a dick in 3 days\"\n",
    "d = \"robert, mike and claire about that shovel in my trunk in 28 years\"\n",
    "e = \"robert, mike, douche, and oxford_comma to write about lawns to mow in 30 minutes\"\n",
    "f = u\"me in 20 minutes about la fois où j'ai chié par la fenêtre du presbytère (屮゜Д゜)屮\" # We need a UTF-8 string in there for good measure\n",
    "\n",
    "g = \"Some invalid string, I guess.\" # Complete garbage\n",
    "h = \"me to huaaah hueeeeeh\" # Vague effort\n",
    "i = \"me in 30 googlblsjhs eerrr fffuuuh\" # a+ for effort (partial time, missing message)\n",
    "j = \"me to fuaaah eeeeh in goobledeegook\" # special olympics (message, incomplete time)\n",
    "k = \"me bob, matthew and johnesss about that one time at band camp in 2 seconds\" #bad recipient\n",
    "l = \"Alice and Bob, Marie, Doug, and Mike to do something in 3 aeons\" # funky recipients, oxford, invalid time unit\n",
    "m = \"me, me, me and me to fuck off in 30 years\"\n",
    "n = \"ocean and ocean in 30 minutes to fuck a guy\"\n",
    "o = \"ocean, ccfreak2k and a mean pimp to do some thugging in 30 minutes\"\n",
    "p = \"Spartacus, some_greek, plato, and spartacus in 3 days to maybe die or something\"\n",
    "\n",
    "q = \"knifa to get blind drunk in -98 nanoseconds\"\n",
    "r = \"A about the colors that are too loud in 1 second\"\n",
    "s = \"some_guy about the dildoes in 48 beard-seconds\"\n",
    "\n",
    "t = \"Bob, Alice, Robert Marie to have too many recipients in 20 minutes\"\n",
    "\n",
    "teststrings = [a,b,c,d,e,f,g,h,i,j,k,l,m,n,o,p,q,r,s,t]"
   ]
  },
  {
   "cell_type": "markdown",
   "metadata": {},
   "source": [
    "Bullshit Test Harness for tokenizer"
   ]
  },
  {
   "cell_type": "code",
   "execution_count": 5,
   "metadata": {
    "collapsed": false
   },
   "outputs": [
    {
     "name": "stdout",
     "output_type": "stream",
     "text": [
      "{'message': 'mow the lawn', 'recipient': ['bob'], 'time': ['28', 'seconds']}\n",
      "{'message': 'go fuck themselves', 'recipient': ['jack', 'jill'], 'time': ['3', 'days']}\n",
      "{'message': 'eat a dick', 'recipient': ['jack', 'jill', 'dr_seuss'], 'time': ['3', 'days']}\n",
      "{'message': 'that shovel', 'recipient': ['robert', 'mike', 'claire'], 'time': ['28', 'years']}\n",
      "{'message': 'write about lawns to mow', 'recipient': ['robert', 'mike', 'douche', 'oxford_comma'], 'time': ['30', 'minutes']}\n",
      "{'message': u\"la fois o\\xf9 j'ai chi\\xe9 par la fen\\xeatre du presbyt\\xe8re (\\u5c6e\\u309c\\u0414\\u309c)\\u5c6e\", 'recipient': [u'me'], 'time': [u'20', u'minutes']}\n",
      "I don't understand: Remind who?\n",
      "I don't understand: Remind when?\n",
      "I don't understand: Remind what..?\n",
      "I don't understand: Remind when?\n",
      "{'message': 'that one time at band camp', 'recipient': ['me bob', 'matthew', 'johnesss'], 'time': ['2', 'seconds']}\n",
      "{'message': 'do something', 'recipient': ['Alice', 'Bob', 'Marie', 'Doug', 'Mike'], 'time': ['3', 'aeons']}\n",
      "{'message': 'fuck off', 'recipient': ['me', 'me', 'me', 'me'], 'time': ['30', 'years']}\n",
      "{'message': 'fuck a guy', 'recipient': ['ocean', 'ocean'], 'time': ['30', 'minutes']}\n",
      "{'message': 'do some thugging', 'recipient': ['ocean', 'ccfreak2k', 'a mean pimp'], 'time': ['30', 'minutes']}\n",
      "{'message': 'maybe die or something', 'recipient': ['Spartacus', 'some_greek', 'plato', 'spartacus'], 'time': ['3', 'days']}\n",
      "I don't understand: Remind when?\n",
      "{'message': 'the colors that are too loud', 'recipient': ['A'], 'time': ['1', 'second']}\n",
      "{'message': 'the dildoes', 'recipient': ['some_guy'], 'time': ['48', 'beard-seconds']}\n",
      "{'message': 'have too many recipients', 'recipient': ['Bob', 'Alice', 'Robert Marie'], 'time': ['20', 'minutes']}\n"
     ]
    }
   ],
   "source": [
    "for line in teststrings:\n",
    "    try:\n",
    "        print repr(parser.tokenize(line))\n",
    "    except parser.ReminderSyntaxError as err:\n",
    "        print \"I don't understand: %s\" % (err.message)"
   ]
  },
  {
   "cell_type": "markdown",
   "metadata": {},
   "source": [
    "What would be the best way to figure out what is a legit recipient?\n",
    "Obviously the following characteristics are somewhere to start.\n",
    "I don't want this to really sophisticated, just ignore the _blatantly invalid_ shit.\n",
    "\n",
    " 1. whole word, no whitespaces, boundaries on each side.\n",
    " 2. Allowed characters only?\n",
    " 3. no duplicates (although that is a problem for the parser logic)\n",
    " \n",
    " BTW thanks RFCs, these characters are allowed: \n",
    "     []\\`_^{|}\n"
   ]
  },
  {
   "cell_type": "code",
   "execution_count": 6,
   "metadata": {
    "collapsed": false
   },
   "outputs": [
    {
     "name": "stdout",
     "output_type": "stream",
     "text": [
      "mr_daemon => True\n",
      "ccfreak2k|work => True\n",
      "A => True\n",
      "Ember` => True\n",
      "hua-hueh_mchueh|magic` => True\n",
      "@ssh,ole// => False\n",
      "@ass => False\n",
      "c++ => False\n",
      "Z0rg\\dicks => True\n",
      "somehow{thisisvalid} => True\n",
      "are space => False\n",
      "are REALLY space! => False\n"
     ]
    }
   ],
   "source": [
    "validchars = r'[]\\`_^{|}'\n",
    "nickexpr = r'^[a-z%s][-0-9a-z%s]*$' % (re.escape(validchars), re.escape(validchars))\n",
    "validnick = re.compile(nickexpr, re.IGNORECASE) \n",
    "\n",
    "# Rough Testing\n",
    "def isvalid(s):\n",
    "    return bool(validnick.match(s))\n",
    "\n",
    "nicks = [\n",
    "            \"mr_daemon\", \n",
    "            \"ccfreak2k|work\", \n",
    "            \"A\", \"Ember`\", \n",
    "            \"hua-hueh_mchueh|magic`\",\n",
    "            \"@ssh,ole//\",\n",
    "            \"@ass\",\n",
    "            \"c++\",\n",
    "            \"Z0rg\\dicks\",\n",
    "            \"somehow{thisisvalid}\",\n",
    "            \"are space\",\n",
    "            \"are REALLY space!\",\n",
    "        ]\n",
    "\n",
    "for nick in nicks:\n",
    "    print nick, \"=>\", isvalid(nick)\n",
    "\n"
   ]
  },
  {
   "cell_type": "markdown",
   "metadata": {},
   "source": [
    "## SIDETRACK: Checkout the tokenizer regexes for recipient"
   ]
  },
  {
   "cell_type": "markdown",
   "metadata": {},
   "source": [
    "Actually, now that I know what I nick /is/, I can probably use this to clean up the match in the tokenizer.\n",
    "Let's try it out:"
   ]
  },
  {
   "cell_type": "code",
   "execution_count": 7,
   "metadata": {
    "collapsed": false
   },
   "outputs": [
    {
     "name": "stdout",
     "output_type": "stream",
     "text": [
      "Source: 'Alice and Bob, Marie, Doug, and Mike'\n",
      "<_sre.SRE_Match object at 0x03653950>\n",
      "None\n",
      "Original: ['Alice', 'Bob', 'Marie', 'Doug', ' Mike']\n",
      "Magical shit negation: ['Alice and Bob, Marie, Doug, and Mike']\n",
      "cleaned up original Alice Bob Marie Doug  Mike\n",
      "cleaned up magical Alice and Bob, Marie, Doug, and Mike\n"
     ]
    }
   ],
   "source": [
    "firstpassexpr = re.compile(r'^(.+?)\\s(in|to|about)\\b', re.IGNORECASE)\n",
    "firstpass_output = firstpassexpr.search(l).group(1) # still the ass oxford comma input\n",
    "print \"Source:\", repr(firstpass_output)\n",
    "\n",
    "originaldelim = re.compile(r'\\b,\\sand\\b|\\b,\\s|\\s\\band\\b\\s', re.IGNORECASE) # I was dumb and my word boundaries were flipped around\n",
    "\n",
    "badnickexpr = re.compile(r'(?!\\b[a-z%s][-0-9a-z%s]*\\b)' % (re.escape(validchars), re.escape(validchars)))\n",
    "badnickdelim = re.compile(nickexpr, re.IGNORECASE)\n",
    "\n",
    "print repr(originaldelim.search(firstpass_output))\n",
    "print repr(badnickdelim.search(firstpass_output))\n",
    "\n",
    "print \"Original:\", repr(originaldelim.split(firstpass_output))\n",
    "print \"Magical shit negation:\", repr(badnickdelim.split(firstpass_output))\n",
    "\n",
    "print \"cleaned up original\", originaldelim.sub(\" \", firstpass_output)\n",
    "print \"cleaned up magical\", badnickdelim.sub(\" \", firstpass_output)"
   ]
  },
  {
   "cell_type": "code",
   "execution_count": 8,
   "metadata": {
    "collapsed": false
   },
   "outputs": [
    {
     "name": "stdout",
     "output_type": "stream",
     "text": [
      "Tokens: ['Alice', 'Bob', 'Marie', 'Doug', 'Mike']\n",
      "Sub: 'Alice Bob Marie Doug Mike'\n"
     ]
    }
   ],
   "source": [
    "originaldelim = re.compile(r'\\b,\\sand\\b\\s|\\b,\\s|\\s\\band\\b\\s', re.IGNORECASE) # Let's tweak this\n",
    "\n",
    "print \"Tokens:\", repr(originaldelim.split(firstpass_output))\n",
    "print \"Sub:\", repr(originaldelim.sub(\" \", firstpass_output))"
   ]
  },
  {
   "cell_type": "markdown",
   "metadata": {},
   "source": [
    "So turns you can't split on such a thing, or I am doing wrong, or both. Meanwhile I spotted the problem with the original expression, so let's pursue that."
   ]
  },
  {
   "cell_type": "markdown",
   "metadata": {},
   "source": [
    "## BACK TO THE PROGRAM"
   ]
  },
  {
   "cell_type": "markdown",
   "metadata": {},
   "source": [
    "We're going to need some more fixtures for the next tests:"
   ]
  },
  {
   "cell_type": "code",
   "execution_count": 9,
   "metadata": {
    "collapsed": false
   },
   "outputs": [
    {
     "name": "stdout",
     "output_type": "stream",
     "text": [
      "{'message': 'write about lawns to mow', 'recipient': ['robert', 'mike', 'douche', 'oxford_comma'], 'time': ['30', 'minutes']}\n"
     ]
    }
   ],
   "source": [
    "# Setup some fixtures\n",
    "sender = \"mr_daemon\" # This will be handed to parser.parse() in the concrete implementation\n",
    "tokens = parser.tokenize(e) # e is the shit one with the oxford comma\n",
    "\n",
    "print repr(tokens)"
   ]
  },
  {
   "cell_type": "markdown",
   "metadata": {},
   "source": [
    "Let's _attempt_ to parse the recipient block"
   ]
  },
  {
   "cell_type": "code",
   "execution_count": 10,
   "metadata": {
    "collapsed": false
   },
   "outputs": [
    {
     "name": "stdout",
     "output_type": "stream",
     "text": [
      "['robert', 'mike', 'douche', 'oxford_comma']\n"
     ]
    }
   ],
   "source": [
    "\n",
    "results = []\n",
    "\n",
    "tokens_ = tokens[\"recipient\"]\n",
    "\n",
    "for index, token in enumerate(tokens_):\n",
    "    if token.lower() == \"me\":\n",
    "        token = sender\n",
    "    \n",
    "    \n",
    "    if token in results:\n",
    "        raise parser.ReminderSyntaxError(\"Duplicate recipient %s at position %d\" % \n",
    "                                         (tokens_[index], index))\n",
    "    \n",
    "    if not bool(validnick.match(token)):\n",
    "        raise parser.ReminderSyntaxError(\"Invalid recipient near %s at position %d\" % \n",
    "                                         (tokens_[index], index))\n",
    "    \n",
    "    results.append(token)\n",
    "\n",
    "print repr(results)"
   ]
  },
  {
   "cell_type": "markdown",
   "metadata": {},
   "source": [
    "Alright I like this let's make a shit test harness"
   ]
  },
  {
   "cell_type": "code",
   "execution_count": 11,
   "metadata": {
    "collapsed": false
   },
   "outputs": [
    {
     "name": "stdout",
     "output_type": "stream",
     "text": [
      "'bob in 28 seconds to mow the lawn' =>\n",
      "['bob']\n",
      "'jack and jill in 3 days to go fuck themselves' =>\n",
      "['jack', 'jill']\n",
      "'jack, jill and dr_seuss to eat a dick in 3 days' =>\n",
      "['jack', 'jill', 'dr_seuss']\n",
      "'robert, mike and claire about that shovel in my trunk in 28 years' =>\n",
      "['robert', 'mike', 'claire']\n",
      "'robert, mike, douche, and oxford_comma to write about lawns to mow in 30 minutes' =>\n",
      "['robert', 'mike', 'douche', 'oxford_comma']\n",
      "u\"me in 20 minutes about la fois o\\xf9 j'ai chi\\xe9 par la fen\\xeatre du presbyt\\xe8re (\\u5c6e\\u309c\\u0414\\u309c)\\u5c6e\" =>\n",
      "['mr_daemon']\n",
      "'Some invalid string, I guess.' =>\n",
      "I don't understand: Remind who?\n",
      "None\n",
      "'me to huaaah hueeeeeh' =>\n",
      "I don't understand: Remind when?\n",
      "None\n",
      "'me in 30 googlblsjhs eerrr fffuuuh' =>\n",
      "I don't understand: Remind what..?\n",
      "None\n",
      "'me to fuaaah eeeeh in goobledeegook' =>\n",
      "I don't understand: Remind when?\n",
      "None\n",
      "'me bob, matthew and johnesss about that one time at band camp in 2 seconds' =>\n",
      "I don't understand: Invalid recipient near me bob at position 0\n",
      "None\n",
      "'Alice and Bob, Marie, Doug, and Mike to do something in 3 aeons' =>\n",
      "['alice', 'bob', 'marie', 'doug', 'mike']\n",
      "'me, me, me and me to fuck off in 30 years' =>\n",
      "I don't understand: Duplicate recipient me at position 1\n",
      "None\n",
      "'ocean and ocean in 30 minutes to fuck a guy' =>\n",
      "I don't understand: Duplicate recipient ocean at position 1\n",
      "None\n",
      "'ocean, ccfreak2k and a mean pimp to do some thugging in 30 minutes' =>\n",
      "I don't understand: Invalid recipient near a mean pimp at position 2\n",
      "None\n",
      "'Spartacus, some_greek, plato, and spartacus in 3 days to maybe die or something' =>\n",
      "I don't understand: Duplicate recipient spartacus at position 3\n",
      "None\n",
      "'knifa to get blind drunk in -98 nanoseconds' =>\n",
      "I don't understand: Remind when?\n",
      "None\n",
      "'A about the colors that are too loud in 1 second' =>\n",
      "['a']\n",
      "'some_guy about the dildoes in 48 beard-seconds' =>\n",
      "['some_guy']\n",
      "'Bob, Alice, Robert Marie to have too many recipients in 20 minutes' =>\n",
      "I don't understand: Invalid recipient near Robert Marie at position 2\n",
      "None\n"
     ]
    }
   ],
   "source": [
    "def recipient_parse(recipients):\n",
    "    results = []\n",
    "    for index, token in enumerate(recipients):\n",
    "        if token.lower() == \"me\":\n",
    "            token = sender\n",
    "\n",
    "\n",
    "        if token.lower() in results:\n",
    "            raise parser.ReminderSyntaxError(\"Duplicate recipient %s at position %d\" % \n",
    "                                             (recipients[index], index))\n",
    "\n",
    "        if not bool(validnick.match(token)):\n",
    "            raise parser.ReminderSyntaxError(\"Invalid recipient near %s at position %d\" % \n",
    "                                             (recipients[index], index))\n",
    "\n",
    "        results.append(token.lower())\n",
    "\n",
    "    return results\n",
    "\n",
    "for line in teststrings:\n",
    "    \n",
    "    print repr(line), \"=>\"\n",
    "    \n",
    "    testresult = None\n",
    "    try:\n",
    "        recipient_token = parser.tokenize(line)[\"recipient\"]\n",
    "        testresult = recipient_parse(recipient_token)\n",
    "    except parser.ReminderSyntaxError as err:\n",
    "        print \"I don't understand: %s\" % (err.message)\n",
    "        \n",
    "    print repr(testresult)\n",
    "        "
   ]
  },
  {
   "cell_type": "markdown",
   "metadata": {},
   "source": [
    "Alright let's just confirm the concrete implementation works"
   ]
  },
  {
   "cell_type": "code",
   "execution_count": 12,
   "metadata": {
    "collapsed": false
   },
   "outputs": [],
   "source": [
    "from local import parser"
   ]
  },
  {
   "cell_type": "code",
   "execution_count": 13,
   "metadata": {
    "collapsed": false
   },
   "outputs": [
    {
     "name": "stdout",
     "output_type": "stream",
     "text": [
      "'bob in 28 seconds to mow the lawn' =>\n",
      "['bob']\n",
      "'jack and jill in 3 days to go fuck themselves' =>\n",
      "['jack', 'jill']\n",
      "'jack, jill and dr_seuss to eat a dick in 3 days' =>\n",
      "['jack', 'jill', 'dr_seuss']\n",
      "'robert, mike and claire about that shovel in my trunk in 28 years' =>\n",
      "['robert', 'mike', 'claire']\n",
      "'robert, mike, douche, and oxford_comma to write about lawns to mow in 30 minutes' =>\n",
      "['robert', 'mike', 'douche', 'oxford_comma']\n",
      "u\"me in 20 minutes about la fois o\\xf9 j'ai chi\\xe9 par la fen\\xeatre du presbyt\\xe8re (\\u5c6e\\u309c\\u0414\\u309c)\\u5c6e\" =>\n",
      "['mr_daemon']\n",
      "'Some invalid string, I guess.' =>\n",
      "I don't understand: Remind who?\n",
      "None\n",
      "'me to huaaah hueeeeeh' =>\n",
      "I don't understand: Remind when?\n",
      "None\n",
      "'me in 30 googlblsjhs eerrr fffuuuh' =>\n",
      "I don't understand: Remind what..?\n",
      "None\n",
      "'me to fuaaah eeeeh in goobledeegook' =>\n",
      "I don't understand: Remind when?\n",
      "None\n",
      "'me bob, matthew and johnesss about that one time at band camp in 2 seconds' =>\n",
      "I don't understand: Invalid recipient near me bob at position 0\n",
      "None\n",
      "'Alice and Bob, Marie, Doug, and Mike to do something in 3 aeons' =>\n",
      "['alice', 'bob', 'marie', 'doug', 'mike']\n",
      "'me, me, me and me to fuck off in 30 years' =>\n",
      "I don't understand: Duplicate recipient me at position 1\n",
      "None\n",
      "'ocean and ocean in 30 minutes to fuck a guy' =>\n",
      "I don't understand: Duplicate recipient ocean at position 1\n",
      "None\n",
      "'ocean, ccfreak2k and a mean pimp to do some thugging in 30 minutes' =>\n",
      "I don't understand: Invalid recipient near a mean pimp at position 2\n",
      "None\n",
      "'Spartacus, some_greek, plato, and spartacus in 3 days to maybe die or something' =>\n",
      "I don't understand: Duplicate recipient spartacus at position 3\n",
      "None\n",
      "'knifa to get blind drunk in -98 nanoseconds' =>\n",
      "I don't understand: Remind when?\n",
      "None\n",
      "'A about the colors that are too loud in 1 second' =>\n",
      "['a']\n",
      "'some_guy about the dildoes in 48 beard-seconds' =>\n",
      "['some_guy']\n",
      "'Bob, Alice, Robert Marie to have too many recipients in 20 minutes' =>\n",
      "I don't understand: Invalid recipient near Robert Marie at position 2\n",
      "None\n"
     ]
    }
   ],
   "source": [
    "for line in teststrings:\n",
    "    \n",
    "    print repr(line), \"=>\"\n",
    "    \n",
    "    testresult = None\n",
    "    try:\n",
    "        recipient_token = parser.tokenize(line)[\"recipient\"]\n",
    "        testresult = parser.parse_recipients(sender, recipient_token)\n",
    "    except parser.ReminderSyntaxError as err:\n",
    "        print \"I don't understand: %s\" % (err.message)\n",
    "        \n",
    "    print repr(testresult)"
   ]
  },
  {
   "cell_type": "markdown",
   "metadata": {},
   "source": [
    "## Parsing the date"
   ]
  },
  {
   "cell_type": "markdown",
   "metadata": {},
   "source": [
    "So now the question is basically what to store dates as.\n",
    "\n",
    "Things to keep in mind\n",
    "\n",
    "* The date will have to stored in /something/. If it is sqlite, What column type exactly?\n",
    "* Do I need an interval or a timestamp? Do I just calculate the distance between now and then and use that?\n",
    "* How hard would it be to add _at_ as an option, so a user could specify a timestamp themselves? (Probably a lot, it would be a different format entirely)\n",
    "* What does the Supybot scheduler expects?\n"
   ]
  },
  {
   "cell_type": "code",
   "execution_count": 14,
   "metadata": {
    "collapsed": false
   },
   "outputs": [
    {
     "name": "stdout",
     "output_type": "stream",
     "text": [
      "['30', 'minutes']\n"
     ]
    }
   ],
   "source": [
    "token_ = tokens[\"time\"]\n",
    "print repr(token_)\n"
   ]
  },
  {
   "cell_type": "code",
   "execution_count": 15,
   "metadata": {
    "collapsed": false
   },
   "outputs": [],
   "source": [
    "def isvalidunit(s):\n",
    "    units = [\"second\", \"minute\", \"hour\", \"day\", \"week\", \"month\", \"year\"]\n",
    "    \n",
    "    s = s.lower()\n",
    "    \n",
    "    if s.endswith(\"s\"):\n",
    "        s = s[:-1]\n",
    "    \n",
    "    if s.lower() in units:\n",
    "        return True\n",
    "    else:\n",
    "        return False\n",
    "\n",
    "def dateparse(timelist):\n",
    "    \n",
    "    if len(timelist) != 2:\n",
    "        raise parser.ReminderSyntaxError(\"Malformed time value, expected 2 arguments got %s\" % (len(timelist)))\n",
    "    \n",
    "    # the tokenizer will barf on this already, so probably unnecessary\n",
    "    if not timelist[0].isdigit():\n",
    "        raise parser.ReminderSyntaxError(\"Quantifying time value '%s' is not an integer.\" % (timelist[1]))\n",
    "        \n",
    "    if not isvalidunit(timelist[1]):\n",
    "        raise parser.ReminderSyntaxError(\"'%s' is not a valid time unit.\" % (timelist[1]))\n",
    "    \n",
    "    return timelist"
   ]
  },
  {
   "cell_type": "code",
   "execution_count": 16,
   "metadata": {
    "collapsed": false
   },
   "outputs": [
    {
     "name": "stdout",
     "output_type": "stream",
     "text": [
      "'bob in 28 seconds to mow the lawn' =>\n",
      "['28', 'seconds']\n",
      "'jack and jill in 3 days to go fuck themselves' =>\n",
      "['3', 'days']\n",
      "'jack, jill and dr_seuss to eat a dick in 3 days' =>\n",
      "['3', 'days']\n",
      "'robert, mike and claire about that shovel in my trunk in 28 years' =>\n",
      "['28', 'years']\n",
      "'robert, mike, douche, and oxford_comma to write about lawns to mow in 30 minutes' =>\n",
      "['30', 'minutes']\n",
      "u\"me in 20 minutes about la fois o\\xf9 j'ai chi\\xe9 par la fen\\xeatre du presbyt\\xe8re (\\u5c6e\\u309c\\u0414\\u309c)\\u5c6e\" =>\n",
      "[u'20', u'minutes']\n",
      "'Some invalid string, I guess.' =>\n",
      "I don't understand: Remind who?\n",
      "None\n",
      "'me to huaaah hueeeeeh' =>\n",
      "I don't understand: Remind when?\n",
      "None\n",
      "'me in 30 googlblsjhs eerrr fffuuuh' =>\n",
      "I don't understand: Remind what..?\n",
      "None\n",
      "'me to fuaaah eeeeh in goobledeegook' =>\n",
      "I don't understand: Remind when?\n",
      "None\n",
      "'me bob, matthew and johnesss about that one time at band camp in 2 seconds' =>\n",
      "['2', 'seconds']\n",
      "'Alice and Bob, Marie, Doug, and Mike to do something in 3 aeons' =>\n",
      "I don't understand: 'aeons' is not a valid time unit.\n",
      "None\n",
      "'me, me, me and me to fuck off in 30 years' =>\n",
      "['30', 'years']\n",
      "'ocean and ocean in 30 minutes to fuck a guy' =>\n",
      "['30', 'minutes']\n",
      "'ocean, ccfreak2k and a mean pimp to do some thugging in 30 minutes' =>\n",
      "['30', 'minutes']\n",
      "'Spartacus, some_greek, plato, and spartacus in 3 days to maybe die or something' =>\n",
      "['3', 'days']\n",
      "'knifa to get blind drunk in -98 nanoseconds' =>\n",
      "I don't understand: Remind when?\n",
      "None\n",
      "'A about the colors that are too loud in 1 second' =>\n",
      "['1', 'second']\n",
      "'some_guy about the dildoes in 48 beard-seconds' =>\n",
      "I don't understand: 'beard-seconds' is not a valid time unit.\n",
      "None\n",
      "'Bob, Alice, Robert Marie to have too many recipients in 20 minutes' =>\n",
      "['20', 'minutes']\n"
     ]
    }
   ],
   "source": [
    "for line in teststrings:\n",
    "    \n",
    "    print repr(line), \"=>\"\n",
    "    \n",
    "    testresult = None\n",
    "    try:\n",
    "        time_token = parser.tokenize(line)[\"time\"]\n",
    "        testresult = dateparse(time_token)\n",
    "    except parser.ReminderSyntaxError as err:\n",
    "        print \"I don't understand: %s\" % (err.message)\n",
    "        \n",
    "    print repr(testresult)"
   ]
  },
  {
   "cell_type": "code",
   "execution_count": null,
   "metadata": {
    "collapsed": false
   },
   "outputs": [],
   "source": []
  }
 ],
 "metadata": {
  "kernelspec": {
   "display_name": "Python 2",
   "language": "python",
   "name": "python2"
  },
  "language_info": {
   "codemirror_mode": {
    "name": "ipython",
    "version": 2
   },
   "file_extension": ".py",
   "mimetype": "text/x-python",
   "name": "python",
   "nbconvert_exporter": "python",
   "pygments_lexer": "ipython2",
   "version": "2.7.10"
  }
 },
 "nbformat": 4,
 "nbformat_minor": 0
}
